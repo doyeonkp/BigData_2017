{
 "cells": [
  {
   "cell_type": "code",
   "execution_count": 3,
   "metadata": {},
   "outputs": [
    {
     "name": "stdout",
     "output_type": "stream",
     "text": [
      "Collecting tweepy\n",
      "  Downloading https://files.pythonhosted.org/packages/67/c3/6bed87f3b1e5ed2f34bd58bf7978e308c86e255193916be76e5a5ce5dfca/tweepy-3.10.0-py2.py3-none-any.whl\n",
      "Collecting requests[socks]>=2.11.1 (from tweepy)\n",
      "\u001b[?25l  Downloading https://files.pythonhosted.org/packages/29/c1/24814557f1d22c56d50280771a17307e6bf87b70727d975fd6b2ce6b014a/requests-2.25.1-py2.py3-none-any.whl (61kB)\n",
      "\u001b[K     |████████████████████████████████| 61kB 1.5MB/s eta 0:00:01\n",
      "\u001b[?25hRequirement already satisfied: six>=1.10.0 in /Users/dk/anaconda/envs/prac/lib/python3.5/site-packages (from tweepy) (1.11.0)\n",
      "Collecting requests-oauthlib>=0.7.0 (from tweepy)\n",
      "  Downloading https://files.pythonhosted.org/packages/a3/12/b92740d845ab62ea4edf04d2f4164d82532b5a0b03836d4d4e71c6f3d379/requests_oauthlib-1.3.0-py2.py3-none-any.whl\n",
      "Collecting idna<3,>=2.5 (from requests[socks]>=2.11.1->tweepy)\n",
      "  Using cached https://files.pythonhosted.org/packages/a2/38/928ddce2273eaa564f6f50de919327bf3a00f091b5baba8dfa9460f3a8a8/idna-2.10-py2.py3-none-any.whl\n",
      "Collecting urllib3<1.27,>=1.21.1 (from requests[socks]>=2.11.1->tweepy)\n",
      "\u001b[?25l  Downloading https://files.pythonhosted.org/packages/23/fc/8a49991f7905261f9ca9df5aa9b58363c3c821ce3e7f671895442b7100f2/urllib3-1.26.3-py2.py3-none-any.whl (137kB)\n",
      "\u001b[K     |████████████████████████████████| 143kB 1.0MB/s eta 0:00:01\n",
      "\u001b[?25hCollecting chardet<5,>=3.0.2 (from requests[socks]>=2.11.1->tweepy)\n",
      "\u001b[?25l  Downloading https://files.pythonhosted.org/packages/19/c7/fa589626997dd07bd87d9269342ccb74b1720384a4d739a1872bd84fbe68/chardet-4.0.0-py2.py3-none-any.whl (178kB)\n",
      "\u001b[K     |████████████████████████████████| 184kB 766kB/s eta 0:00:01\n",
      "\u001b[?25hRequirement already satisfied: certifi>=2017.4.17 in /Users/dk/anaconda/envs/prac/lib/python3.5/site-packages (from requests[socks]>=2.11.1->tweepy) (2018.8.24)\n",
      "Collecting PySocks!=1.5.7,>=1.5.6; extra == \"socks\" (from requests[socks]>=2.11.1->tweepy)\n",
      "  Downloading https://files.pythonhosted.org/packages/8d/59/b4572118e098ac8e46e399a1dd0f2d85403ce8bbaad9ec79373ed6badaf9/PySocks-1.7.1-py3-none-any.whl\n",
      "Collecting oauthlib>=3.0.0 (from requests-oauthlib>=0.7.0->tweepy)\n",
      "\u001b[?25l  Downloading https://files.pythonhosted.org/packages/05/57/ce2e7a8fa7c0afb54a0581b14a65b56e62b5759dbc98e80627142b8a3704/oauthlib-3.1.0-py2.py3-none-any.whl (147kB)\n",
      "\u001b[K     |████████████████████████████████| 153kB 1.0MB/s eta 0:00:01\n",
      "\u001b[?25hInstalling collected packages: idna, urllib3, chardet, PySocks, requests, oauthlib, requests-oauthlib, tweepy\n",
      "Successfully installed PySocks-1.7.1 chardet-4.0.0 idna-2.10 oauthlib-3.1.0 requests-2.25.1 requests-oauthlib-1.3.0 tweepy-3.10.0 urllib3-1.26.3\n",
      "\u001b[33mWARNING: You are using pip version 19.2.3, however version 20.3.4 is available.\n",
      "You should consider upgrading via the 'pip install --upgrade pip' command.\u001b[0m\n"
     ]
    }
   ],
   "source": [
    "!pip install tweepy"
   ]
  },
  {
   "cell_type": "code",
   "execution_count": 4,
   "metadata": {},
   "outputs": [],
   "source": [
    "import tweepy\n",
    "from tweepy import OAuthHandler\n",
    "from tweepy import API"
   ]
  },
  {
   "cell_type": "code",
   "execution_count": 5,
   "metadata": {},
   "outputs": [],
   "source": [
    "C_KEY = 'KEY'\n",
    "C_SECRET = 'SECRET'\n",
    "A_TOKEN_KEY = 'TOKENKEY'\n",
    "A_TOKEN_SECRET = 'TOKENSECRET'"
   ]
  },
  {
   "cell_type": "code",
   "execution_count": 6,
   "metadata": {},
   "outputs": [],
   "source": [
    "auth = tweepy.OAuthHandler(C_KEY, C_SECRET)\n",
    "auth.set_access_token(A_TOKEN_KEY, A_TOKEN_SECRET)\n",
    "api = tweepy.API(auth)"
   ]
  },
  {
   "cell_type": "code",
   "execution_count": 7,
   "metadata": {},
   "outputs": [
    {
     "name": "stdout",
     "output_type": "stream",
     "text": [
      "* b'RT @KUSINews: COVID-19 survival rates for different age groups, per the @CDCgov. https://t.co/lcEHIqAM6D'\n",
      "* b'RT @drdavidmichaels: In developing and implementing #OSHA-required plans, it will be very difficult for businesses to justify ignoring @CDC\\xe2\\x80\\xa6'\n",
      "* b'#YorkU librarian develops much-needed #pandemic guide for consumers. It sums up the history of pandemics, &amp; offers\\xe2\\x80\\xa6 https://t.co/B81nh75y7x'\n",
      "* b'@SenJoniErnst @CDCgov They are following the science. \\nYou aren\\xe2\\x80\\x99t. \\n\\nhttps://t.co/GdlkbwbHX2 https://t.co/jtifcqF9iI'\n",
      "* b'@mayon12345 @PEI_Germany @jensspahn @CDCgov M\\xc3\\xbcssen die EU Staaten nicht. Die Bundesregierung tut es. Andere Staaten\\xe2\\x80\\xa6 https://t.co/mizp3HYNio'\n",
      "* b'RT @CDCgov: #COVID19 has highlighted preexisting health disparities, including food insecurity, in people who are deaf and hard-of-hearing.\\xe2\\x80\\xa6'\n",
      "* b'@SenRonJohnson @CDCgov https://t.co/dUbfwInVyY'\n",
      "* b'RT @IamWalkerT: According to @CDCgov In 2019, 12 million American adults seriously thought about suicide, 3.5 million made a plan, and 1.4\\xe2\\x80\\xa6'\n",
      "* b'RT @CDCgov: #COVID19 has highlighted preexisting health disparities, including food insecurity, in people who are deaf and hard-of-hearing.\\xe2\\x80\\xa6'\n",
      "* b'RT @CDCgov: #COVID19 has highlighted preexisting health disparities, including food insecurity, in people who are deaf and hard-of-hearing.\\xe2\\x80\\xa6'\n",
      "* b'RT @CDCgov: #COVID19 has highlighted preexisting health disparities, including food insecurity, in people who are deaf and hard-of-hearing.\\xe2\\x80\\xa6'\n",
      "* b'@BombshellDAILY @CDCgov @NIH And it was MAGNIFICENT!!! Jen rocks!!!'\n",
      "* b'RT @CDCgov: #COVID19 has highlighted preexisting health disparities, including food insecurity, in people who are deaf and hard-of-hearing.\\xe2\\x80\\xa6'\n",
      "* b\"RT @RayBake: How self-centered do you have to be to believe you're qualified to give the @CDCgov scientific advice, @SenJoniErnst?\\n\\nPretty\\xe2\\x80\\xa6\"\n",
      "* b'@noorchashm @George3031301 @mmelgar09 @JHowardBrainMD @AlastairMcA30 @DrWoodcockFDA @CDCDirector @US_FDA @CDCgov\\xe2\\x80\\xa6 https://t.co/ygQfeTz4PD'\n",
      "* b'RT @CDCgov: #COVID19 has highlighted preexisting health disparities, including food insecurity, in people who are deaf and hard-of-hearing.\\xe2\\x80\\xa6'\n",
      "* b'RT @rickeybevington: You can review the @CDCgov data for yourself to see where Georgia ranks compared to other states https://t.co/pbVRGwA3\\xe2\\x80\\xa6'\n",
      "* b'@SenRonJohnson @CDCgov Trump put us 9 trillion in debt giving to corporate shush funds and bail outs and now the ba\\xe2\\x80\\xa6 https://t.co/akywJTkeYw'\n",
      "* b'RT @BombshellDAILY: WHITE HOUSE GIVES TRUMP FULL CREDIT FOR KILLING HALF A MILLION AMERICANS\\nJen Psaki Shuts Down Reporter Who Wanted Her t\\xe2\\x80\\xa6'\n",
      "* b'RT @MDA_Advocacy: #MDA agrees with @CDCgov and will continue to work to ensure those with a disability receive the #COVID19 vaccine ASAP. h\\xe2\\x80\\xa6'\n"
     ]
    }
   ],
   "source": [
    "keyword = 'CDCgov'\n",
    "posts = api.search(q=keyword,count=20)\n",
    "for tweet in posts:\n",
    "    print(\"* \"+str(tweet.text.encode(\"utf-8\")))"
   ]
  },
  {
   "cell_type": "code",
   "execution_count": 8,
   "metadata": {},
   "outputs": [],
   "source": [
    "#save file in txt type\n",
    "with open('cdcgov.txt', 'w') as f:\n",
    "    for tweet in posts:\n",
    "        f.write(str(tweet.text.encode(\"utf-8\"))) #write file\n",
    "        f.write('\\n')\n",
    "f.close()"
   ]
  },
  {
   "cell_type": "code",
   "execution_count": 9,
   "metadata": {},
   "outputs": [],
   "source": [
    "#streaming\n",
    "import time\n",
    "from tweepy.streaming import StreamListener\n",
    "from tweepy import OAuthHandler\n",
    "from tweepy import Stream\n",
    "\n",
    "C_KEY = 'ARqM1qdEoMvHZyTPhkEQrIvxl'\n",
    "C_SECRET = 'vHifM0NSDB1IEG4J7ghd7TcjmkoUt6J02b88qaOcIx64dQq09L'\n",
    "A_TOKEN_KEY = '907977047380779014-aVnQj8FcWb5AYiS1v7XxmX393HSEMiS'\n",
    "A_TOKEN_SECRET = 'OtW4IxCJxub7ZlpcSVxTxin9tvWykON21q6gt0tbLQ7ON'\n",
    "\n",
    "class MyListener(StreamListener):\n",
    "\n",
    "    def __init__(self, time_limit=60):\n",
    "        self.start_time = time.time()\n",
    "        self.limit = time_limit\n",
    "        self.outFile = open('politics.json', 'a')\n",
    "        super(MyListener, self).__init__()\n",
    "    \n",
    "    def on_data(self, data):\n",
    "        if (time.time() - self.start_time) < self.limit:\n",
    "            self.outFile.write(data)\n",
    "            self.outFile.write('\\n')\n",
    "            return True\n",
    "        else:\n",
    "            self.outFile.close()\n",
    "            return False\n",
    "\n",
    "    def on_error(self, status):\n",
    "        print(status)"
   ]
  },
  {
   "cell_type": "code",
   "execution_count": 12,
   "metadata": {},
   "outputs": [],
   "source": [
    "#streaming key words\n",
    "auth = OAuthHandler(C_KEY,C_SECRET)\n",
    "auth.set_access_token(A_TOKEN_KEY,A_TOKEN_SECRET)\n",
    "myStream = Stream(auth, MyListener(time_limit=5))\n",
    "myStream.filter(track=['politics'])"
   ]
  }
 ],
 "metadata": {
  "kernelspec": {
   "display_name": "Python 3",
   "language": "python",
   "name": "python3"
  },
  "language_info": {
   "codemirror_mode": {
    "name": "ipython",
    "version": 3
   },
   "file_extension": ".py",
   "mimetype": "text/x-python",
   "name": "python",
   "nbconvert_exporter": "python",
   "pygments_lexer": "ipython3",
   "version": "3.5.6"
  }
 },
 "nbformat": 4,
 "nbformat_minor": 2
}
