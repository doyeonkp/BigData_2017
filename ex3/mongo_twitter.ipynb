{
 "cells": [
  {
   "cell_type": "code",
   "execution_count": 1,
   "metadata": {
    "collapsed": true
   },
   "outputs": [
    {
     "name": "stdout",
     "output_type": "stream",
     "text": [
      "* The health effects of #Zika can affect families &amp; communities. Here’s info for specific groups.… https://t.co/tnYYka5mXf\n",
      "* Attention medical/veterinary students: Apply now to CDC’s #Epidemiology Elective Program at https://t.co/KthKK9xcpM. https://t.co/6WD6CdhRdp\n",
      "* RT @DrFriedenCDC: Healthcare providers: To address gaps in rural health, promote physical activity, motor vehicle safety, and more. https:/…\n",
      "* Did you know? #Zika is a cause of birth defects &amp; linked to Guillain-Barré syndrome. https://t.co/aQPrqEGGO5 https://t.co/s0JZ8UQ765\n",
      "* RT @DrFriedenCDC: While CDC began responding to #Zika, @MarchofDimes worked to help families understand Zika prevention. https://t.co/bBtgl…\n",
      "* Get healthy before getting pregnant. Follow #Prep4Preg 1/17 2pm ET. @HeidiMurkoff @WhatToExpect @nacersano… https://t.co/jjCBqjRV9Q\n",
      "* New CDC study: The 15% of Americans who live in rural areas are at greater risk of death from 5 leading causes.… https://t.co/joOtgOA5Or\n",
      "* RT @DrFriedenCDC: New AR Investment Map shows how CDC is working to combat #AntibioticResistance in your state: https://t.co/mFiWvnZvRL htt…\n",
      "* #CDCResponder Peggy Honein &amp; team were responding to #Zika before scientists confirmed it can cause microcephaly. https://t.co/Qqngjn0bTR\n",
      "* If you have #diabetes, have you talked to your doctor about getting tested for kidney disease? #VitalSigns https://t.co/R1yiBIM03r\n",
      "* RT @DrFriedenCDC: Still a lot to do, but we wanted to make America stronger &amp; healthier and CDC more effective. It is. @NatGeo https://t.co…\n",
      "* Nearly 48K women died of prescription opioid overdose b/w 1999 &amp; 2010. Join next #CDCGrandRounds on 1/17 1PM.… https://t.co/U22UXhFOp4\n",
      "* RT @DrFriedenCDC: One year later, #Zika still affects us all. Read why @washingtonpost https://t.co/bBtgloORtc\n",
      "* RT @DrFriedenCDC: Healthcare providers: To address gaps in rural health, screen blood pressure, promote physical activity, &amp; more. https://…\n",
      "* Put vaccines at the top of your 2017 health checklist. Need 10 reasons why? https://t.co/FS19AwVjxc\n",
      "* #Diabetes is the leading cause of kidney failure and requires dialysis or kidney transplant to survive. #VitalSigns https://t.co/R1yiBIM03r\n",
      "* RT @DrFriedenCDC: U.S. #flu activity continues to increase. CDC recommends antivirals to treat flu in high risk flu patients.  https://t.co…\n",
      "* New CDC study: Rural Americans are at greater risk of death from 5 leading causes than their urban counterparts.… https://t.co/QYtw9bcTBS\n",
      "* Schools can use this guide to create a culture of physical activity during #recess. #CDCHealthySchools https://t.co/DaCK5HQmMK\n",
      "* Zika had been around for 70 yrs but nobody reported link b/t Zika &amp; microcephaly before. - #CDCResponder Honein… https://t.co/YbJR5efZNY\n",
      "* RT @DrFriedenCDC: CDC sounded the alarm and began a strong response on public health issues like opioid overdoses. @NatGeo https://t.co/BQj…\n",
      "* RT @CDCFlu: It's flu season! Be on the lookout for #flu symptoms &amp; know what to do if you or a family member gets sick w/ flu! https://t.co…\n",
      "* In 30 mins- @DrFriedenCDC talks #DefeatingDisease w. Pres. Carter &amp; @DrSanjayGupta @CarterCenter. Webcast 7 pm ET… https://t.co/FeNT7xcLSy\n",
      "* Over 4,800 people have had Zika in US states. Protect yourself &amp; those around you. https://t.co/hMjX4PRpti https://t.co/cZ4cMdruXx\n",
      "* Kidney failure from #diabetes dropped by 54% in Native Americans. See the numbers: #VitalSigns https://t.co/R1yiBIM03r\n",
      "* RT @DrFriedenCDC: CDC staff were essential to stopping the #Ebola outbreak in West Africa. Looking back w. @NatGeo https://t.co/BQjhq8zarD\n",
      "* Parents: Help promote #recess, physical activity, and active school environments. #CDCHealthySchools… https://t.co/EHBx9DvaLx\n",
      "* Since 1999 women’s deaths have quadrupled from prescription opioid overdose. Next #CDCGrandRounds 1/17 1PM ET.… https://t.co/PctscE0fb5\n",
      "* @kfcaudell We’re sorry to hear that you’re having trouble reaching us. Please contact us at 770-488-1725 and we’ll be glad to help.\n",
      "* Travel notices, disease case counts &amp; FluView Weekly available on-the-go on redesigned CDC mobile app. Download now… https://t.co/oKCkxA2AUa\n",
      "* RT @DrFriedenCDC: Looking forward to joining President Carter &amp; @DrSanjayGupta tomorrow @CarterCenter to talk #DefeatingDisease https://t.c…\n",
      "* Millions of pregnant women have safely received flu shots over many years. Join them and #FightFlu!… https://t.co/pSFGuRujax\n",
      "* Native Americans are twice as likely as whites to have #diabetes. Learn more #VitalSigns https://t.co/R1yiBJ3Bs1\n",
      "* Thanks for joining us! For more information on preventing birth defects visit: https://t.co/lc7j6STdvJ. #SaludTues\n",
      "* Thank you for participating in the #SaludTues chat on Birth Defects w/ our co-hosts @modhealthtalk, @nacersano, @CDCgov, &amp; @CDCespanol!\n",
      "* A8: Follow #Prevent2Protect and learn tips to prevent infections for you and your baby's health. https://t.co/lc7j6STdvJ #SaludTues\n",
      "* .@NLM_OSP Women at higher risk for neural tube defects will want to talk w/ their doc about a RX for a higher dose of folic acid. #SaludTues\n",
      "* A8: To learn more about how to prevent birth defects by consuming folic acid, visit https://t.co/7PdPd5ESrb. #SaludTues\n",
      "* A7: #Prevent2Protect: Protect yourself from animals &amp; insects known to carry diseases, such as #Zika virus.… https://t.co/ZwnzUsFMeS\n",
      "* A7: #Prevent2Protect: Maintaining good hygiene helps reduce the risk of getting an infection during pregnancy.… https://t.co/pCBIKgDw93\n",
      "* A7: #Prevent2Protect: Properly preparing food prevents infections for you and your baby’s health. #SaludTues https://t.co/2Ilt1rMmng\n",
      "* A7: Prevent infections for you and your baby's protection. Start by talking with you healthcare provider.… https://t.co/fx6cB7Oq2p\n",
      "* A6: Some Latinas assume that taking a multivitamin is only for kids. #SaludTues\n",
      "* A6: A myth some Latina women have about taking a multivitamin with folic acid is that it will cause weight gain. #SaludTues\n",
      "* A5: Talk with your doctor. https://t.co/H5idq4bOFI #SaludTues (2/2)\n",
      "* A5: Women who had a baby w/ a neural tube defect may need more folic acid before next pregnancy. https://t.co/H5idq4bOFI #SaludTues (1/2)\n",
      "* A4: All women can benefit from folic acid, which increases their chances of having a healthy baby. https://t.co/7PdPd5ESrb #SaludTues\n",
      "* A4: Make it delicious: Take a multivitamin with 400 mcg of folic acid and enjoy it with a smoothie. #SaludTues https://t.co/4tBTOyCkod\n",
      "* A4: Women can benefit from eating corn masa flour products that are now fortified w/ folic acid such as tortillas and corn chips. #SaludTues\n",
      "* A3: Women should eat foods rich in folate. However, most women do not get daily recommended amount of folate through food alone. #SaludTues\n"
     ]
    }
   ],
   "source": [
    "import tweepy\n",
    "from tweepy import OAuthHandler\n",
    "from tweepy import API\n",
    "\n",
    "C_KEY = 'XXXXXXX'\n",
    "C_SECRET = 'XXXXXXX'\n",
    "A_TOKEN_KEY = 'XXXXXX'\n",
    "A_TOKEN_SECRET = 'XXXXXXX'\n",
    "\n",
    "auth = tweepy.OAuthHandler(C_KEY, C_SECRET)\n",
    "auth.set_access_token(A_TOKEN_KEY, A_TOKEN_SECRET)\n",
    "api = tweepy.API(auth)\n",
    "\n",
    "keyword = 'from:CDCgov'\n",
    "posts = api.search(q=keyword,count=50)\n",
    "for tweet in posts:\n",
    "    print(\"* \"+str(tweet.text.encode(\"utf-8\")))"
   ]
  },
  {
   "cell_type": "code",
   "execution_count": 7,
   "metadata": {},
   "outputs": [
    {
     "name": "stdout",
     "output_type": "stream",
     "text": [
      "Connected successfully!!!\n"
     ]
    }
   ],
   "source": [
    "import json\n",
    "from pymongo import MongoClient\n",
    "\n",
    "try:\n",
    "    connection = MongoClient('localhost', 27017)\n",
    "    print \"Connected successfully!!!\"\n",
    "except pymongo.errors.ConnectionFailure, e:\n",
    "   print \"Could not connect to MongoDB: %s\" % e\n",
    "\n",
    "db = connection['local']\n",
    "\n",
    "for tweet in posts:\n",
    "    db.twitter.insert_one(tweet._json)\n",
    "    \n",
    "connection.close()"
   ]
  },
  {
   "cell_type": "code",
   "execution_count": 7,
   "metadata": {
    "collapsed": true
   },
   "outputs": [
    {
     "name": "stdout",
     "output_type": "stream",
     "text": [
      "Connected successfully!!!\n",
      "Found 50 tweets:\n",
      "The health effects of #Zika can affect families &amp; communities. Here’s info for specific groups.… https://t.co/tnYYka5mXf\n",
      "Attention medical/veterinary students: Apply now to CDC’s #Epidemiology Elective Program at https://t.co/KthKK9xcpM. https://t.co/6WD6CdhRdp\n",
      "RT @DrFriedenCDC: Healthcare providers: To address gaps in rural health, promote physical activity, motor vehicle safety, and more. https:/…\n",
      "Did you know? #Zika is a cause of birth defects &amp; linked to Guillain-Barré syndrome. https://t.co/aQPrqEGGO5 https://t.co/s0JZ8UQ765\n",
      "RT @DrFriedenCDC: While CDC began responding to #Zika, @MarchofDimes worked to help families understand Zika prevention. https://t.co/bBtgl…\n",
      "Get healthy before getting pregnant. Follow #Prep4Preg 1/17 2pm ET. @HeidiMurkoff @WhatToExpect @nacersano… https://t.co/jjCBqjRV9Q\n",
      "New CDC study: The 15% of Americans who live in rural areas are at greater risk of death from 5 leading causes.… https://t.co/joOtgOA5Or\n",
      "RT @DrFriedenCDC: New AR Investment Map shows how CDC is working to combat #AntibioticResistance in your state: https://t.co/mFiWvnZvRL htt…\n",
      "#CDCResponder Peggy Honein &amp; team were responding to #Zika before scientists confirmed it can cause microcephaly. https://t.co/Qqngjn0bTR\n",
      "If you have #diabetes, have you talked to your doctor about getting tested for kidney disease? #VitalSigns https://t.co/R1yiBIM03r\n",
      "RT @DrFriedenCDC: Still a lot to do, but we wanted to make America stronger &amp; healthier and CDC more effective. It is. @NatGeo https://t.co…\n",
      "Nearly 48K women died of prescription opioid overdose b/w 1999 &amp; 2010. Join next #CDCGrandRounds on 1/17 1PM.… https://t.co/U22UXhFOp4\n",
      "RT @DrFriedenCDC: One year later, #Zika still affects us all. Read why @washingtonpost https://t.co/bBtgloORtc\n",
      "RT @DrFriedenCDC: Healthcare providers: To address gaps in rural health, screen blood pressure, promote physical activity, &amp; more. https://…\n",
      "Put vaccines at the top of your 2017 health checklist. Need 10 reasons why? https://t.co/FS19AwVjxc\n",
      "#Diabetes is the leading cause of kidney failure and requires dialysis or kidney transplant to survive. #VitalSigns https://t.co/R1yiBIM03r\n",
      "RT @DrFriedenCDC: U.S. #flu activity continues to increase. CDC recommends antivirals to treat flu in high risk flu patients.  https://t.co…\n",
      "New CDC study: Rural Americans are at greater risk of death from 5 leading causes than their urban counterparts.… https://t.co/QYtw9bcTBS\n",
      "Schools can use this guide to create a culture of physical activity during #recess. #CDCHealthySchools https://t.co/DaCK5HQmMK\n",
      "Zika had been around for 70 yrs but nobody reported link b/t Zika &amp; microcephaly before. - #CDCResponder Honein… https://t.co/YbJR5efZNY\n",
      "RT @DrFriedenCDC: CDC sounded the alarm and began a strong response on public health issues like opioid overdoses. @NatGeo https://t.co/BQj…\n",
      "RT @CDCFlu: It's flu season! Be on the lookout for #flu symptoms &amp; know what to do if you or a family member gets sick w/ flu! https://t.co…\n",
      "In 30 mins- @DrFriedenCDC talks #DefeatingDisease w. Pres. Carter &amp; @DrSanjayGupta @CarterCenter. Webcast 7 pm ET… https://t.co/FeNT7xcLSy\n",
      "Over 4,800 people have had Zika in US states. Protect yourself &amp; those around you. https://t.co/hMjX4PRpti https://t.co/cZ4cMdruXx\n",
      "Kidney failure from #diabetes dropped by 54% in Native Americans. See the numbers: #VitalSigns https://t.co/R1yiBIM03r\n",
      "RT @DrFriedenCDC: CDC staff were essential to stopping the #Ebola outbreak in West Africa. Looking back w. @NatGeo https://t.co/BQjhq8zarD\n",
      "Parents: Help promote #recess, physical activity, and active school environments. #CDCHealthySchools… https://t.co/EHBx9DvaLx\n",
      "Since 1999 women’s deaths have quadrupled from prescription opioid overdose. Next #CDCGrandRounds 1/17 1PM ET.… https://t.co/PctscE0fb5\n",
      "@kfcaudell We’re sorry to hear that you’re having trouble reaching us. Please contact us at 770-488-1725 and we’ll be glad to help.\n",
      "Travel notices, disease case counts &amp; FluView Weekly available on-the-go on redesigned CDC mobile app. Download now… https://t.co/oKCkxA2AUa\n",
      "RT @DrFriedenCDC: Looking forward to joining President Carter &amp; @DrSanjayGupta tomorrow @CarterCenter to talk #DefeatingDisease https://t.c…\n",
      "Millions of pregnant women have safely received flu shots over many years. Join them and #FightFlu!… https://t.co/pSFGuRujax\n",
      "Native Americans are twice as likely as whites to have #diabetes. Learn more #VitalSigns https://t.co/R1yiBJ3Bs1\n",
      "Thanks for joining us! For more information on preventing birth defects visit: https://t.co/lc7j6STdvJ. #SaludTues\n",
      "Thank you for participating in the #SaludTues chat on Birth Defects w/ our co-hosts @modhealthtalk, @nacersano, @CDCgov, &amp; @CDCespanol!\n",
      "A8: Follow #Prevent2Protect and learn tips to prevent infections for you and your baby's health. https://t.co/lc7j6STdvJ #SaludTues\n",
      ".@NLM_OSP Women at higher risk for neural tube defects will want to talk w/ their doc about a RX for a higher dose of folic acid. #SaludTues\n",
      "A8: To learn more about how to prevent birth defects by consuming folic acid, visit https://t.co/7PdPd5ESrb. #SaludTues\n",
      "A7: #Prevent2Protect: Protect yourself from animals &amp; insects known to carry diseases, such as #Zika virus.… https://t.co/ZwnzUsFMeS\n",
      "A7: #Prevent2Protect: Maintaining good hygiene helps reduce the risk of getting an infection during pregnancy.… https://t.co/pCBIKgDw93\n",
      "A7: #Prevent2Protect: Properly preparing food prevents infections for you and your baby’s health. #SaludTues https://t.co/2Ilt1rMmng\n",
      "A7: Prevent infections for you and your baby's protection. Start by talking with you healthcare provider.… https://t.co/fx6cB7Oq2p\n",
      "A6: Some Latinas assume that taking a multivitamin is only for kids. #SaludTues\n",
      "A6: A myth some Latina women have about taking a multivitamin with folic acid is that it will cause weight gain. #SaludTues\n",
      "A5: Talk with your doctor. https://t.co/H5idq4bOFI #SaludTues (2/2)\n",
      "A5: Women who had a baby w/ a neural tube defect may need more folic acid before next pregnancy. https://t.co/H5idq4bOFI #SaludTues (1/2)\n",
      "A4: All women can benefit from folic acid, which increases their chances of having a healthy baby. https://t.co/7PdPd5ESrb #SaludTues\n",
      "A4: Make it delicious: Take a multivitamin with 400 mcg of folic acid and enjoy it with a smoothie. #SaludTues https://t.co/4tBTOyCkod\n",
      "A4: Women can benefit from eating corn masa flour products that are now fortified w/ folic acid such as tortillas and corn chips. #SaludTues\n",
      "A3: Women should eat foods rich in folate. However, most women do not get daily recommended amount of folate through food alone. #SaludTues\n"
     ]
    }
   ],
   "source": [
    "import json\n",
    "from pymongo import MongoClient\n",
    "\n",
    "try:\n",
    "    connection = MongoClient('localhost', 27017)\n",
    "    print \"Connected successfully!!!\"\n",
    "except pymongo.errors.ConnectionFailure, e:\n",
    "   print \"Could not connect to MongoDB: %s\" % e\n",
    "\n",
    "db = connection['local']\n",
    "\n",
    "tweets = db.twitter\n",
    "print \"Found\", tweets.count(), \"tweets:\"\n",
    "\n",
    "for tweet in tweets.find():\n",
    "    print tweet['text']\n",
    "    \n",
    "connection.close()"
   ]
  },
  {
   "cell_type": "code",
   "execution_count": 8,
   "metadata": {},
   "outputs": [
    {
     "name": "stdout",
     "output_type": "stream",
     "text": [
      "The health effects of #Zika can affect families &amp; communities. Here’s info for specific groups.… https://t.co/tnYYka5mXf\n",
      "Did you know? #Zika is a cause of birth defects &amp; linked to Guillain-Barré syndrome. https://t.co/aQPrqEGGO5 https://t.co/s0JZ8UQ765\n",
      "RT @DrFriedenCDC: While CDC began responding to #Zika, @MarchofDimes worked to help families understand Zika prevention. https://t.co/bBtgl…\n",
      "#CDCResponder Peggy Honein &amp; team were responding to #Zika before scientists confirmed it can cause microcephaly. https://t.co/Qqngjn0bTR\n",
      "RT @DrFriedenCDC: One year later, #Zika still affects us all. Read why @washingtonpost https://t.co/bBtgloORtc\n",
      "Zika had been around for 70 yrs but nobody reported link b/t Zika &amp; microcephaly before. - #CDCResponder Honein… https://t.co/YbJR5efZNY\n",
      "Over 4,800 people have had Zika in US states. Protect yourself &amp; those around you. https://t.co/hMjX4PRpti https://t.co/cZ4cMdruXx\n",
      "A7: #Prevent2Protect: Protect yourself from animals &amp; insects known to carry diseases, such as #Zika virus.… https://t.co/ZwnzUsFMeS\n"
     ]
    }
   ],
   "source": [
    "for tweet in tweets.find({\"text\": {\"$regex\": \".*Zika.*\"}}):\n",
    "    print tweet['text']"
   ]
  },
  {
   "cell_type": "code",
   "execution_count": 48,
   "metadata": {},
   "outputs": [
    {
     "name": "stdout",
     "output_type": "stream",
     "text": [
      "key: contributors\n",
      "key: truncated\n",
      "key: text\n",
      "key: is_quote_status\n",
      "key: in_reply_to_status_id\n",
      "key: id\n",
      "key: favorite_count\n",
      "key: source\n",
      "key: retweeted\n",
      "key: coordinates\n",
      "key: entities\n",
      "key: in_reply_to_screen_name\n",
      "key: id_str\n",
      "key: retweet_count\n",
      "key: in_reply_to_user_id\n",
      "key: favorited\n",
      "key: retweeted_status\n",
      "key: user\n",
      "key: geo\n",
      "key: in_reply_to_user_id_str\n",
      "key: lang\n",
      "key: created_at\n",
      "key: metadata\n",
      "key: in_reply_to_status_id_str\n",
      "key: place\n",
      "key: _id\n"
     ]
    }
   ],
   "source": [
    "tweet = tweets.find_one()\n",
    "for key in tweet:\n",
    "   print \"key: %s\" % key"
   ]
  },
  {
   "cell_type": "code",
   "execution_count": 58,
   "metadata": {},
   "outputs": [
    {
     "name": "stdout",
     "output_type": "stream",
     "text": [
      "{u'follow_request_sent': False, u'has_extended_profile': False, u'profile_use_background_image': True, u'time_zone': u'Eastern Time (US & Canada)', u'id': 146569971, u'default_profile': False, u'verified': True, u'profile_text_color': u'333333', u'profile_image_url_https': u'https://pbs.twimg.com/profile_images/748879958538321920/iPUVbyKu_normal.jpg', u'profile_sidebar_fill_color': u'DDEEF6', u'is_translator': False, u'geo_enabled': False, u'entities': {u'url': {u'urls': [{u'url': u'http://t.co/5a7cTu2vly', u'indices': [0, 22], u'expanded_url': u'http://www.cdc.gov', u'display_url': u'cdc.gov'}]}, u'description': {u'urls': [{u'url': u'http://t.co/nTOTJDCRyO', u'indices': [133, 155], u'expanded_url': u'http://go.usa.gov/8Ea', u'display_url': u'go.usa.gov/8Ea'}]}}, u'followers_count': 721099, u'protected': False, u'id_str': u'146569971', u'default_profile_image': False, u'listed_count': 10063, u'lang': u'en', u'utc_offset': -18000, u'statuses_count': 17780, u'description': u\"CDC's official Twitter source for daily credible health & safety updates f/ Centers for Disease Control & Prevention. Privacy policy http://t.co/nTOTJDCRyO\", u'friends_count': 267, u'profile_link_color': u'0084B4', u'profile_image_url': u'http://pbs.twimg.com/profile_images/748879958538321920/iPUVbyKu_normal.jpg', u'notifications': False, u'profile_background_image_url_https': u'https://pbs.twimg.com/profile_background_images/703525704/4ffb919c21e697be1d3a25d778705577.jpeg', u'profile_background_color': u'C0DEED', u'profile_banner_url': u'https://pbs.twimg.com/profile_banners/146569971/1484154052', u'profile_background_image_url': u'http://pbs.twimg.com/profile_background_images/703525704/4ffb919c21e697be1d3a25d778705577.jpeg', u'name': u'CDC', u'is_translation_enabled': False, u'profile_background_tile': False, u'favourites_count': 258, u'screen_name': u'CDCgov', u'url': u'http://t.co/5a7cTu2vly', u'created_at': u'Fri May 21 19:40:40 +0000 2010', u'contributors_enabled': False, u'location': u'Atlanta, GA', u'profile_sidebar_border_color': u'FFFFFF', u'translator_type': u'none', u'following': False}\n"
     ]
    }
   ],
   "source": [
    "print tweet['user']"
   ]
  },
  {
   "cell_type": "code",
   "execution_count": null,
   "metadata": {
    "collapsed": true
   },
   "outputs": [],
   "source": []
  }
 ],
 "metadata": {
  "anaconda-cloud": {},
  "kernelspec": {
   "display_name": "Python 2",
   "language": "python",
   "name": "python2"
  },
  "language_info": {
   "codemirror_mode": {
    "name": "ipython",
    "version": 2
   },
   "file_extension": ".py",
   "mimetype": "text/x-python",
   "name": "python",
   "nbconvert_exporter": "python",
   "pygments_lexer": "ipython2",
   "version": "2.7.13"
  }
 },
 "nbformat": 4,
 "nbformat_minor": 1
}
