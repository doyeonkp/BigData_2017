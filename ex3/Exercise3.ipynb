{
 "cells": [
  {
   "cell_type": "markdown",
   "metadata": {
    "collapsed": true
   },
   "source": [
    "uname = \"your_id\"\n",
    "pwd = \"P@ssw0rd\"\n",
    "hname = \"mysql-user.cse.msu.edu\""
   ]
  },
  {
   "cell_type": "markdown",
   "metadata": {},
   "source": [
    "import mysql.connector\n",
    "from mysql.connector import errorcode\n",
    "\n",
    "try:\n",
    "    cnx = mysql.connector.connect(user=uname, password=pwd, host=hname, database=uname)\n",
    "    cursor = cnx.cursor()\n",
    "    query = \"DROP TABLE IF EXISTS Wiki_Edit\"\n",
    "    cursor.execute(query)\n",
    "\n",
    "    query = \"\"\"CREATE TABLE IF NOT EXISTS Wiki_Edit (RevId int PRIMARY KEY,\n",
    "                                ArticleName varchar(100),EditDate date,User varchar(50))\n",
    "            \"\"\"\n",
    "    cursor.execute(query)\n",
    "    cursor.close()\n",
    "    cnx.close()\n",
    "    cnx.commit()\n",
    "except mysql.connector.Error as err:\n",
    "    print(err"
   ]
  },
  {
   "cell_type": "code",
   "execution_count": 33,
   "metadata": {},
   "outputs": [
    {
     "name": "stdout",
     "output_type": "stream",
     "text": [
      "2005-01-01 ip:24.136.172.37\n",
      "2005-01-03 ip:137.53.22.23\n",
      "2005-01-03 ip:24.42.90.254\n",
      "2005-01-06 ip:69.61.184.201\n"
     ]
    }
   ],
   "source": [
    "from pymongo import MongoClient\n",
    "\n",
    "try:\n",
    "    connection = MongoClient('localhost', 27017)\n",
    "except pymongo.errors.ConnectionFailure, e:\n",
    "   print \"Could not connect to MongoDB: %s\" % e\n",
    "\n",
    "db = connection['local']\n",
    "\n",
    "with open('wiki_edit.txt','r') as f:\n",
    "#     columns = f.readline().strip().split(' ')\n",
    "    data = []\n",
    "    for line in f:\n",
    "        columns = line.strip().split(' ')\n",
    "#         data.append(line.strip().split(','))\n",
    "        record = {'RevidionalID' : columns[0], 'ArticleName' : columns[1], 'EditDate' : columns[2], 'UserName' : columns[3]}\n",
    "        db.wiki2.insert_one(record)\n",
    "\n",
    "revisions = db.wiki2\n",
    "    \n",
    "for line in revisions.find({\"ArticleName\": \"Anarchism\"}):\n",
    "    print line[\"EditDate\"], line[\"UserName\"]"
   ]
  },
  {
   "cell_type": "code",
   "execution_count": null,
   "metadata": {
    "collapsed": true
   },
   "outputs": [],
   "source": []
  }
 ],
 "metadata": {
  "kernelspec": {
   "display_name": "Python 3",
   "language": "python",
   "name": "python3"
  },
  "language_info": {
   "codemirror_mode": {
    "name": "ipython",
    "version": 3
   },
   "file_extension": ".py",
   "mimetype": "text/x-python",
   "name": "python",
   "nbconvert_exporter": "python",
   "pygments_lexer": "ipython3",
   "version": "3.5.6"
  }
 },
 "nbformat": 4,
 "nbformat_minor": 2
}
