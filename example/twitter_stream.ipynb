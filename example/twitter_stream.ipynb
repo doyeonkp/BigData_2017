{
 "cells": [
  {
   "cell_type": "code",
   "execution_count": null,
   "metadata": {
    "scrolled": true
   },
   "outputs": [],
   "source": [
    "import time\n",
    "from tweepy.streaming import StreamListener\n",
    "from tweepy import OAuthHandler\n",
    "from tweepy import Stream\n",
    "\n",
    "C_KEY = 'XXXXXXXXXX'\n",
    "C_SECRET = 'XXXXXXXXXX'\n",
    "A_TOKEN_KEY = 'XXXXXXXXXX'\n",
    "A_TOKEN_SECRET = 'XXXXXXXXXX'\n",
    "\n",
    "# Create a StreamListener class \n",
    "class MyListener(StreamListener):\n",
    "\n",
    "    def __init__(self, time_limit=30):\n",
    "        self.start_time = time.time()\n",
    "        self.limit = time_limit\n",
    "        self.outFile = open('output.json', 'a')\n",
    "        super(MyListener, self).__init__()\n",
    "    \n",
    "    def on_data(self, data):\n",
    "        if (time.time() - self.start_time) < self.limit:\n",
    "            self.outFile.write(data)\n",
    "            self.outFile.write('\\n')\n",
    "            return True\n",
    "        else:\n",
    "            self.outFile.close()\n",
    "            return False\n",
    "\n",
    "    def on_error(self, status):\n",
    "        print(status)"
   ]
  },
  {
   "cell_type": "code",
   "execution_count": null,
   "metadata": {},
   "outputs": [
    {
     "name": "stdout",
     "output_type": "stream",
     "text": [
      "401\n",
      "401\n",
      "401\n",
      "401\n",
      "401\n",
      "401\n",
      "401\n",
      "401\n",
      "401\n"
     ]
    }
   ],
   "source": [
    "auth = OAuthHandler(C_KEY,C_SECRET)\n",
    "auth.set_access_token(A_TOKEN_KEY,A_TOKEN_SECRET)\n",
    "myStream = Stream(auth, MyListener(time_limit=10))\n",
    "myStream.filter(track=[ 'new year'])"
   ]
  },
  {
   "cell_type": "code",
   "execution_count": null,
   "metadata": {
    "collapsed": true
   },
   "outputs": [],
   "source": []
  }
 ],
 "metadata": {
  "anaconda-cloud": {},
  "kernelspec": {
   "display_name": "Python 2",
   "language": "python",
   "name": "python2"
  },
  "language_info": {
   "codemirror_mode": {
    "name": "ipython",
    "version": 2
   },
   "file_extension": ".py",
   "mimetype": "text/x-python",
   "name": "python",
   "nbconvert_exporter": "python",
   "pygments_lexer": "ipython2",
   "version": "2.7.13"
  }
 },
 "nbformat": 4,
 "nbformat_minor": 1
}
