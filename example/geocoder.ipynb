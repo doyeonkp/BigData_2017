{
 "cells": [
  {
   "cell_type": "code",
   "execution_count": 1,
   "metadata": {
    "collapsed": true
   },
   "outputs": [],
   "source": [
    "import requests\n",
    "url = 'https://maps.googleapis.com/maps/api/geocode/json'\n",
    "par = {'address': '325 W Shaw Ln, East Lansing, MI'}\n",
    "r = requests.get(url, params=par)\n",
    "results = r.json()['results']"
   ]
  },
  {
   "cell_type": "code",
   "execution_count": 2,
   "metadata": {
    "collapsed": false
   },
   "outputs": [
    {
     "data": {
      "text/plain": [
       "[{u'address_components': [{u'long_name': u'325',\n",
       "    u'short_name': u'325',\n",
       "    u'types': [u'street_number']},\n",
       "   {u'long_name': u'West Shaw Lane',\n",
       "    u'short_name': u'W Shaw Ln',\n",
       "    u'types': [u'route']},\n",
       "   {u'long_name': u'East Lansing',\n",
       "    u'short_name': u'East Lansing',\n",
       "    u'types': [u'locality', u'political']},\n",
       "   {u'long_name': u'Ingham County',\n",
       "    u'short_name': u'Ingham County',\n",
       "    u'types': [u'administrative_area_level_2', u'political']},\n",
       "   {u'long_name': u'Michigan',\n",
       "    u'short_name': u'MI',\n",
       "    u'types': [u'administrative_area_level_1', u'political']},\n",
       "   {u'long_name': u'United States',\n",
       "    u'short_name': u'US',\n",
       "    u'types': [u'country', u'political']},\n",
       "   {u'long_name': u'48825',\n",
       "    u'short_name': u'48825',\n",
       "    u'types': [u'postal_code']}],\n",
       "  u'formatted_address': u'325 W Shaw Ln, East Lansing, MI 48825, USA',\n",
       "  u'geometry': {u'location': {u'lat': 42.7259801, u'lng': -84.48499199999999},\n",
       "   u'location_type': u'ROOFTOP',\n",
       "   u'viewport': {u'northeast': {u'lat': 42.7273290802915,\n",
       "     u'lng': -84.48364301970848},\n",
       "    u'southwest': {u'lat': 42.7246311197085, u'lng': -84.4863409802915}}},\n",
       "  u'place_id': u'ChIJo9rwBHzCIogRZzfYFQUIJ70',\n",
       "  u'types': [u'street_address']}]"
      ]
     },
     "execution_count": 2,
     "metadata": {},
     "output_type": "execute_result"
    }
   ],
   "source": [
    "results"
   ]
  },
  {
   "cell_type": "code",
   "execution_count": 12,
   "metadata": {
    "collapsed": false
   },
   "outputs": [
    {
     "data": {
      "text/plain": [
       "[42.7259801, -84.48499199999999]"
      ]
     },
     "execution_count": 12,
     "metadata": {},
     "output_type": "execute_result"
    }
   ],
   "source": [
    "import geocoder\n",
    "g = geocoder.google('325 W Shaw Ln, Esat Lansing, MI 48824')\n",
    "g.latlng"
   ]
  },
  {
   "cell_type": "code",
   "execution_count": 13,
   "metadata": {
    "collapsed": false
   },
   "outputs": [
    {
     "data": {
      "text/plain": [
       "u'310 S Federal St, Chicago, IL 60604, USA'"
      ]
     },
     "execution_count": 13,
     "metadata": {},
     "output_type": "execute_result"
    }
   ],
   "source": [
    "g = geocoder.google([41.8781, -87.6298],method='reverse')\n",
    "g.address"
   ]
  },
  {
   "cell_type": "code",
   "execution_count": 15,
   "metadata": {
    "collapsed": false
   },
   "outputs": [
    {
     "data": {
      "text/plain": [
       "geocoder.google_reverse.GoogleReverse"
      ]
     },
     "execution_count": 15,
     "metadata": {},
     "output_type": "execute_result"
    }
   ],
   "source": [
    "type(g)"
   ]
  },
  {
   "cell_type": "code",
   "execution_count": 16,
   "metadata": {
    "collapsed": false
   },
   "outputs": [
    {
     "data": {
      "text/plain": [
       "{u'results': [{u'address_components': [{u'long_name': u'310',\n",
       "     u'short_name': u'310',\n",
       "     u'types': [u'street_number']},\n",
       "    {u'long_name': u'South Federal Street',\n",
       "     u'short_name': u'S Federal St',\n",
       "     u'types': [u'route']},\n",
       "    {u'long_name': u'Chicago Loop',\n",
       "     u'short_name': u'Chicago Loop',\n",
       "     u'types': [u'neighborhood', u'political']},\n",
       "    {u'long_name': u'Chicago',\n",
       "     u'short_name': u'Chicago',\n",
       "     u'types': [u'locality', u'political']},\n",
       "    {u'long_name': u'Cook County',\n",
       "     u'short_name': u'Cook County',\n",
       "     u'types': [u'administrative_area_level_2', u'political']},\n",
       "    {u'long_name': u'Illinois',\n",
       "     u'short_name': u'IL',\n",
       "     u'types': [u'administrative_area_level_1', u'political']},\n",
       "    {u'long_name': u'United States',\n",
       "     u'short_name': u'US',\n",
       "     u'types': [u'country', u'political']},\n",
       "    {u'long_name': u'60604',\n",
       "     u'short_name': u'60604',\n",
       "     u'types': [u'postal_code']}],\n",
       "   u'formatted_address': u'310 S Federal St, Chicago, IL 60604, USA',\n",
       "   u'geometry': {u'location': {u'lat': 41.8779592, u'lng': -87.6299542},\n",
       "    u'location_type': u'ROOFTOP',\n",
       "    u'viewport': {u'northeast': {u'lat': 41.8793081802915,\n",
       "      u'lng': -87.62860521970849},\n",
       "     u'southwest': {u'lat': 41.8766102197085, u'lng': -87.63130318029151}}},\n",
       "   u'place_id': u'ChIJ1b2FHr0sDogRfuWeLPjZfCA',\n",
       "   u'types': [u'street_address']},\n",
       "  {u'address_components': [{u'long_name': u'Ohare Airport',\n",
       "     u'short_name': u'Ohare Airport',\n",
       "     u'types': [u'airport', u'establishment', u'point_of_interest']},\n",
       "    {u'long_name': u'Chicago Loop',\n",
       "     u'short_name': u'Chicago Loop',\n",
       "     u'types': [u'neighborhood', u'political']},\n",
       "    {u'long_name': u'Chicago',\n",
       "     u'short_name': u'Chicago',\n",
       "     u'types': [u'locality', u'political']},\n",
       "    {u'long_name': u'Cook County',\n",
       "     u'short_name': u'Cook County',\n",
       "     u'types': [u'administrative_area_level_2', u'political']},\n",
       "    {u'long_name': u'Illinois',\n",
       "     u'short_name': u'IL',\n",
       "     u'types': [u'administrative_area_level_1', u'political']},\n",
       "    {u'long_name': u'United States',\n",
       "     u'short_name': u'US',\n",
       "     u'types': [u'country', u'political']},\n",
       "    {u'long_name': u'60604',\n",
       "     u'short_name': u'60604',\n",
       "     u'types': [u'postal_code']}],\n",
       "   u'formatted_address': u'Ohare Airport, Chicago, IL 60604, USA',\n",
       "   u'geometry': {u'location': {u'lat': 41.8781136, u'lng': -87.6297982},\n",
       "    u'location_type': u'APPROXIMATE',\n",
       "    u'viewport': {u'northeast': {u'lat': 41.8794625802915,\n",
       "      u'lng': -87.62844921970849},\n",
       "     u'southwest': {u'lat': 41.8767646197085, u'lng': -87.63114718029149}}},\n",
       "   u'place_id': u'ChIJC0SR4LwsDogRCks_jVNCGGw',\n",
       "   u'types': [u'airport', u'establishment', u'point_of_interest']},\n",
       "  {u'address_components': [{u'long_name': u'Chicago Loop',\n",
       "     u'short_name': u'Chicago Loop',\n",
       "     u'types': [u'neighborhood', u'political']},\n",
       "    {u'long_name': u'Chicago',\n",
       "     u'short_name': u'Chicago',\n",
       "     u'types': [u'locality', u'political']},\n",
       "    {u'long_name': u'Cook County',\n",
       "     u'short_name': u'Cook County',\n",
       "     u'types': [u'administrative_area_level_2', u'political']},\n",
       "    {u'long_name': u'Illinois',\n",
       "     u'short_name': u'IL',\n",
       "     u'types': [u'administrative_area_level_1', u'political']},\n",
       "    {u'long_name': u'United States',\n",
       "     u'short_name': u'US',\n",
       "     u'types': [u'country', u'political']}],\n",
       "   u'formatted_address': u'Chicago Loop, Chicago, IL, USA',\n",
       "   u'geometry': {u'bounds': {u'northeast': {u'lat': 41.8906303,\n",
       "      u'lng': -87.6024557},\n",
       "     u'southwest': {u'lat': 41.8673146, u'lng': -87.638289}},\n",
       "    u'location': {u'lat': 41.8786351, u'lng': -87.6250549},\n",
       "    u'location_type': u'APPROXIMATE',\n",
       "    u'viewport': {u'northeast': {u'lat': 41.8906303, u'lng': -87.6024557},\n",
       "     u'southwest': {u'lat': 41.8673146, u'lng': -87.638289}}},\n",
       "   u'place_id': u'ChIJH4ylJLssDogRsnTrGIEMnEY',\n",
       "   u'types': [u'neighborhood', u'political']},\n",
       "  {u'address_components': [{u'long_name': u'Chicago',\n",
       "     u'short_name': u'Chicago',\n",
       "     u'types': [u'locality', u'political']},\n",
       "    {u'long_name': u'Cook County',\n",
       "     u'short_name': u'Cook County',\n",
       "     u'types': [u'administrative_area_level_2', u'political']},\n",
       "    {u'long_name': u'Illinois',\n",
       "     u'short_name': u'IL',\n",
       "     u'types': [u'administrative_area_level_1', u'political']},\n",
       "    {u'long_name': u'United States',\n",
       "     u'short_name': u'US',\n",
       "     u'types': [u'country', u'political']}],\n",
       "   u'formatted_address': u'Chicago, IL, USA',\n",
       "   u'geometry': {u'bounds': {u'northeast': {u'lat': 42.023131,\n",
       "      u'lng': -87.52366099999999},\n",
       "     u'southwest': {u'lat': 41.6443349, u'lng': -87.9402669}},\n",
       "    u'location': {u'lat': 41.8781136, u'lng': -87.6297982},\n",
       "    u'location_type': u'APPROXIMATE',\n",
       "    u'viewport': {u'northeast': {u'lat': 42.023131,\n",
       "      u'lng': -87.52404399999999},\n",
       "     u'southwest': {u'lat': 41.6443349, u'lng': -87.9402669}}},\n",
       "   u'place_id': u'ChIJ7cv00DwsDogRAMDACa2m4K8',\n",
       "   u'types': [u'locality', u'political']},\n",
       "  {u'address_components': [{u'long_name': u'60604',\n",
       "     u'short_name': u'60604',\n",
       "     u'types': [u'postal_code']},\n",
       "    {u'long_name': u'Chicago Loop',\n",
       "     u'short_name': u'Chicago Loop',\n",
       "     u'types': [u'neighborhood', u'political']},\n",
       "    {u'long_name': u'Chicago',\n",
       "     u'short_name': u'Chicago',\n",
       "     u'types': [u'locality', u'political']},\n",
       "    {u'long_name': u'Cook County',\n",
       "     u'short_name': u'Cook County',\n",
       "     u'types': [u'administrative_area_level_2', u'political']},\n",
       "    {u'long_name': u'Illinois',\n",
       "     u'short_name': u'IL',\n",
       "     u'types': [u'administrative_area_level_1', u'political']},\n",
       "    {u'long_name': u'United States',\n",
       "     u'short_name': u'US',\n",
       "     u'types': [u'country', u'political']}],\n",
       "   u'formatted_address': u'Chicago, IL 60604, USA',\n",
       "   u'geometry': {u'bounds': {u'northeast': {u'lat': 41.880089,\n",
       "      u'lng': -87.6205899},\n",
       "     u'southwest': {u'lat': 41.87558, u'lng': -87.63375400000001}},\n",
       "    u'location': {u'lat': 41.87848510000001, u'lng': -87.627893},\n",
       "    u'location_type': u'APPROXIMATE',\n",
       "    u'viewport': {u'northeast': {u'lat': 41.880089, u'lng': -87.6205899},\n",
       "     u'southwest': {u'lat': 41.87558, u'lng': -87.63375400000001}}},\n",
       "   u'place_id': u'ChIJGb-rVaIsDogRO31GpwpwByA',\n",
       "   u'types': [u'postal_code']},\n",
       "  {u'address_components': [{u'long_name': u'Cook County',\n",
       "     u'short_name': u'Cook County',\n",
       "     u'types': [u'administrative_area_level_2', u'political']},\n",
       "    {u'long_name': u'Illinois',\n",
       "     u'short_name': u'IL',\n",
       "     u'types': [u'administrative_area_level_1', u'political']},\n",
       "    {u'long_name': u'United States',\n",
       "     u'short_name': u'US',\n",
       "     u'types': [u'country', u'political']}],\n",
       "   u'formatted_address': u'Cook County, IL, USA',\n",
       "   u'geometry': {u'bounds': {u'northeast': {u'lat': 42.1543239,\n",
       "      u'lng': -87.1111619},\n",
       "     u'southwest': {u'lat': 41.46953389999999, u'lng': -88.2634779}},\n",
       "    u'location': {u'lat': 41.7376587, u'lng': -87.697554},\n",
       "    u'location_type': u'APPROXIMATE',\n",
       "    u'viewport': {u'northeast': {u'lat': 42.1543239,\n",
       "      u'lng': -87.52404399999999},\n",
       "     u'southwest': {u'lat': 41.46953389999999, u'lng': -88.2634779}}},\n",
       "   u'place_id': u'ChIJdRNDZqqxD4gRPOAOIwnX2Yo',\n",
       "   u'types': [u'administrative_area_level_2', u'political']},\n",
       "  {u'address_components': [{u'long_name': u'Chicago Metropolitan Area',\n",
       "     u'short_name': u'Chicago Metropolitan Area',\n",
       "     u'types': [u'political']},\n",
       "    {u'long_name': u'United States',\n",
       "     u'short_name': u'US',\n",
       "     u'types': [u'country', u'political']}],\n",
       "   u'formatted_address': u'Chicago Metropolitan Area, USA',\n",
       "   u'geometry': {u'bounds': {u'northeast': {u'lat': 42.670123,\n",
       "      u'lng': -86.92925699999999},\n",
       "     u'southwest': {u'lat': 40.7364641, u'lng': -88.942292}},\n",
       "    u'location': {u'lat': 41.7435073, u'lng': -88.0118473},\n",
       "    u'location_type': u'APPROXIMATE',\n",
       "    u'viewport': {u'northeast': {u'lat': 42.670123,\n",
       "      u'lng': -86.92925699999999},\n",
       "     u'southwest': {u'lat': 40.7364641, u'lng': -88.942292}}},\n",
       "   u'place_id': u'ChIJg-CZjExEDogRNJNXmgqEe9o',\n",
       "   u'types': [u'political']},\n",
       "  {u'address_components': [{u'long_name': u'Chicago Metropolitan Area',\n",
       "     u'short_name': u'Chicago Metropolitan Area',\n",
       "     u'types': [u'political']},\n",
       "    {u'long_name': u'United States',\n",
       "     u'short_name': u'US',\n",
       "     u'types': [u'country', u'political']}],\n",
       "   u'formatted_address': u'Chicago Metropolitan Area, USA',\n",
       "   u'geometry': {u'bounds': {u'northeast': {u'lat': 42.669875,\n",
       "      u'lng': -86.92925679999999},\n",
       "     u'southwest': {u'lat': 40.7364641, u'lng': -88.942145}},\n",
       "    u'location': {u'lat': 42.2162567, u'lng': -87.8549755},\n",
       "    u'location_type': u'APPROXIMATE',\n",
       "    u'viewport': {u'northeast': {u'lat': 42.669875,\n",
       "      u'lng': -86.92925679999999},\n",
       "     u'southwest': {u'lat': 40.7364641, u'lng': -88.942145}}},\n",
       "   u'place_id': u'ChIJnbOSJtVFDogRes-6C8iBA2s',\n",
       "   u'types': [u'political']},\n",
       "  {u'address_components': [{u'long_name': u'Illinois',\n",
       "     u'short_name': u'IL',\n",
       "     u'types': [u'administrative_area_level_1',\n",
       "      u'establishment',\n",
       "      u'point_of_interest',\n",
       "      u'political']},\n",
       "    {u'long_name': u'United States',\n",
       "     u'short_name': u'US',\n",
       "     u'types': [u'country', u'political']}],\n",
       "   u'formatted_address': u'Illinois, USA',\n",
       "   u'geometry': {u'bounds': {u'northeast': {u'lat': 42.5083379,\n",
       "      u'lng': -87.01993499999999},\n",
       "     u'southwest': {u'lat': 36.970298, u'lng': -91.5130789}},\n",
       "    u'location': {u'lat': 40.6331249, u'lng': -89.3985283},\n",
       "    u'location_type': u'APPROXIMATE',\n",
       "    u'viewport': {u'northeast': {u'lat': 42.508325, u'lng': -87.4951991},\n",
       "     u'southwest': {u'lat': 36.970298, u'lng': -91.5130789}}},\n",
       "   u'place_id': u'ChIJGSZubzgtC4gRVlkRZFCCFX8',\n",
       "   u'types': [u'administrative_area_level_1',\n",
       "    u'establishment',\n",
       "    u'point_of_interest',\n",
       "    u'political']},\n",
       "  {u'address_components': [{u'long_name': u'United States',\n",
       "     u'short_name': u'US',\n",
       "     u'types': [u'country', u'political']}],\n",
       "   u'formatted_address': u'United States',\n",
       "   u'geometry': {u'bounds': {u'northeast': {u'lat': 71.5388001,\n",
       "      u'lng': -66.885417},\n",
       "     u'southwest': {u'lat': 18.7763, u'lng': 170.5957}},\n",
       "    u'location': {u'lat': 37.09024, u'lng': -95.712891},\n",
       "    u'location_type': u'APPROXIMATE',\n",
       "    u'viewport': {u'northeast': {u'lat': 49.38, u'lng': -66.94},\n",
       "     u'southwest': {u'lat': 25.82, u'lng': -124.39}}},\n",
       "   u'place_id': u'ChIJCzYy5IS16lQRQrfeQ5K5Oxw',\n",
       "   u'types': [u'country', u'political']}],\n",
       " u'status': u'OK'}"
      ]
     },
     "execution_count": 16,
     "metadata": {},
     "output_type": "execute_result"
    }
   ],
   "source": [
    "g.content"
   ]
  },
  {
   "cell_type": "code",
   "execution_count": null,
   "metadata": {
    "collapsed": true
   },
   "outputs": [],
   "source": []
  }
 ],
 "metadata": {
  "anaconda-cloud": {},
  "kernelspec": {
   "display_name": "Python [default]",
   "language": "python",
   "name": "python2"
  },
  "language_info": {
   "codemirror_mode": {
    "name": "ipython",
    "version": 2
   },
   "file_extension": ".py",
   "mimetype": "text/x-python",
   "name": "python",
   "nbconvert_exporter": "python",
   "pygments_lexer": "ipython2",
   "version": "2.7.12"
  }
 },
 "nbformat": 4,
 "nbformat_minor": 1
}
