{
 "cells": [
  {
   "cell_type": "markdown",
   "metadata": {
    "collapsed": true
   },
   "source": [
    "Part1:\n",
    "a) nominal\n",
    "b) interval\n",
    "c) order(?)\n",
    "d) ratio\n",
    "e) order\n",
    "f) nominal\n",
    "g) order\n",
    "h) ratio"
   ]
  },
  {
   "cell_type": "code",
   "execution_count": 8,
   "metadata": {
    "collapsed": true
   },
   "outputs": [],
   "source": [
    "#streaming\n",
    "import time\n",
    "from tweepy.streaming import StreamListener\n",
    "from tweepy import OAuthHandler\n",
    "from tweepy import Stream\n",
    "\n",
    "C_KEY = 'KEY'\n",
    "C_SECRET = 'SECRET'\n",
    "A_TOKEN_KEY = 'TOKENKEY'\n",
    "A_TOKEN_SECRET = 'TOKENSECRET'\n",
    "\n",
    "class MyListener(StreamListener):\n",
    "\n",
    "    def __init__(self, time_limit=5):\n",
    "        self.start_time = time.time()\n",
    "        self.limit = time_limit\n",
    "        self.outFile = open('output.json', 'a')\n",
    "        super(MyListener, self).__init__()\n",
    "    \n",
    "    def on_data(self, data):\n",
    "        if (time.time() - self.start_time) < self.limit:\n",
    "            self.outFile.write(data)\n",
    "#             self.outFile.write('\\n')\n",
    "            return True\n",
    "        else:\n",
    "            self.outFile.close()\n",
    "            return False\n",
    "\n",
    "    def on_error(self, status):\n",
    "        print(status)"
   ]
  },
  {
   "cell_type": "code",
   "execution_count": 9,
   "metadata": {
    "collapsed": true
   },
   "outputs": [],
   "source": [
    "#streaming key words\n",
    "auth = OAuthHandler(C_KEY,C_SECRET)\n",
    "auth.set_access_token(A_TOKEN_KEY,A_TOKEN_SECRET)\n",
    "myStream = Stream(auth, MyListener(time_limit=100))\n",
    "myStream.filter(track=[ 'michigan'])"
   ]
  },
  {
   "cell_type": "code",
   "execution_count": 10,
   "metadata": {
    "collapsed": true
   },
   "outputs": [],
   "source": [
    "import json\n",
    "f = open('output.json')\n",
    "# for line in f:\n",
    "#     line.split[]\n",
    "tweets = [json.loads(line) for line in f]\n",
    "f.close()"
   ]
  },
  {
   "cell_type": "code",
   "execution_count": 11,
   "metadata": {
    "collapsed": true
   },
   "outputs": [],
   "source": [
    "from collections import defaultdict\n",
    "\n",
    "counts = defaultdict(int)\n",
    "for tweet in tweets:\n",
    "    words = tweet['text'].split(' ')\n",
    "    for word in words:\n",
    "        if(word.startswith('#')):\n",
    "            counts[word] += 1 "
   ]
  },
  {
   "cell_type": "code",
   "execution_count": 12,
   "metadata": {
    "collapsed": true
   },
   "outputs": [],
   "source": [
    "import operator"
   ]
  },
  {
   "cell_type": "code",
   "execution_count": 13,
   "metadata": {},
   "outputs": [
    {
     "data": {
      "text/plain": [
       "[(u'#Cleveland\\u2026', 1),\n",
       " (u'#DonaldTrump,', 1),\n",
       " (u'#Michigan', 1),\n",
       " (u'#Florida', 1),\n",
       " (u'#UnitedStates', 1)]"
      ]
     },
     "execution_count": 13,
     "metadata": {},
     "output_type": "execute_result"
    }
   ],
   "source": [
    "sorted_words = sorted(counts.items(), key=operator.itemgetter(1))\n",
    "sorted_words[:5]"
   ]
  },
  {
   "cell_type": "code",
   "execution_count": null,
   "metadata": {
    "collapsed": true
   },
   "outputs": [],
   "source": []
  }
 ],
 "metadata": {
  "kernelspec": {
   "display_name": "Python 3",
   "language": "python",
   "name": "python3"
  },
  "language_info": {
   "codemirror_mode": {
    "name": "ipython",
    "version": 3
   },
   "file_extension": ".py",
   "mimetype": "text/x-python",
   "name": "python",
   "nbconvert_exporter": "python",
   "pygments_lexer": "ipython3",
   "version": "3.5.6"
  }
 },
 "nbformat": 4,
 "nbformat_minor": 2
}
