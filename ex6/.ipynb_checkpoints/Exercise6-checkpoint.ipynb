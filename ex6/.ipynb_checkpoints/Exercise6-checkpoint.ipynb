{
 "cells": [
  {
   "cell_type": "code",
   "execution_count": 1,
   "metadata": {},
   "outputs": [
    {
     "data": {
      "text/html": [
       "<div>\n",
       "<style>\n",
       "    .dataframe thead tr:only-child th {\n",
       "        text-align: right;\n",
       "    }\n",
       "\n",
       "    .dataframe thead th {\n",
       "        text-align: left;\n",
       "    }\n",
       "\n",
       "    .dataframe tbody tr th {\n",
       "        vertical-align: top;\n",
       "    }\n",
       "</style>\n",
       "<table border=\"1\" class=\"dataframe\">\n",
       "  <thead>\n",
       "    <tr style=\"text-align: right;\">\n",
       "      <th></th>\n",
       "      <th>date</th>\n",
       "      <th>Temperature</th>\n",
       "      <th>Humidity</th>\n",
       "      <th>Light</th>\n",
       "      <th>CO2</th>\n",
       "      <th>HumidityRatio</th>\n",
       "      <th>Occupancy</th>\n",
       "    </tr>\n",
       "  </thead>\n",
       "  <tbody>\n",
       "    <tr>\n",
       "      <th>0</th>\n",
       "      <td>2/4/2015 18:07</td>\n",
       "      <td>23.000</td>\n",
       "      <td>27.200</td>\n",
       "      <td>0.0</td>\n",
       "      <td>681.5</td>\n",
       "      <td>0.004728</td>\n",
       "      <td>0</td>\n",
       "    </tr>\n",
       "    <tr>\n",
       "      <th>1</th>\n",
       "      <td>2/4/2015 18:16</td>\n",
       "      <td>22.790</td>\n",
       "      <td>27.445</td>\n",
       "      <td>0.0</td>\n",
       "      <td>689.0</td>\n",
       "      <td>0.004710</td>\n",
       "      <td>0</td>\n",
       "    </tr>\n",
       "    <tr>\n",
       "      <th>2</th>\n",
       "      <td>2/4/2015 19:05</td>\n",
       "      <td>22.245</td>\n",
       "      <td>27.290</td>\n",
       "      <td>0.0</td>\n",
       "      <td>602.5</td>\n",
       "      <td>0.004530</td>\n",
       "      <td>0</td>\n",
       "    </tr>\n",
       "    <tr>\n",
       "      <th>3</th>\n",
       "      <td>2/4/2015 19:06</td>\n",
       "      <td>22.200</td>\n",
       "      <td>27.290</td>\n",
       "      <td>0.0</td>\n",
       "      <td>598.0</td>\n",
       "      <td>0.004517</td>\n",
       "      <td>0</td>\n",
       "    </tr>\n",
       "    <tr>\n",
       "      <th>4</th>\n",
       "      <td>2/4/2015 19:12</td>\n",
       "      <td>22.200</td>\n",
       "      <td>27.290</td>\n",
       "      <td>0.0</td>\n",
       "      <td>593.5</td>\n",
       "      <td>0.004517</td>\n",
       "      <td>0</td>\n",
       "    </tr>\n",
       "  </tbody>\n",
       "</table>\n",
       "</div>"
      ],
      "text/plain": [
       "             date  Temperature  Humidity  Light    CO2  HumidityRatio  \\\n",
       "0  2/4/2015 18:07       23.000    27.200    0.0  681.5       0.004728   \n",
       "1  2/4/2015 18:16       22.790    27.445    0.0  689.0       0.004710   \n",
       "2  2/4/2015 19:05       22.245    27.290    0.0  602.5       0.004530   \n",
       "3  2/4/2015 19:06       22.200    27.290    0.0  598.0       0.004517   \n",
       "4  2/4/2015 19:12       22.200    27.290    0.0  593.5       0.004517   \n",
       "\n",
       "   Occupancy  \n",
       "0          0  \n",
       "1          0  \n",
       "2          0  \n",
       "3          0  \n",
       "4          0  "
      ]
     },
     "execution_count": 1,
     "metadata": {},
     "output_type": "execute_result"
    }
   ],
   "source": [
    "import pandas as p\n",
    "data = p.read_csv('train.csv')\n",
    "data.head()"
   ]
  },
  {
   "cell_type": "code",
   "execution_count": 2,
   "metadata": {
    "collapsed": true
   },
   "outputs": [],
   "source": [
    "X = data.drop('date',axis=1)\n",
    "X = X.drop('Occupancy', axis=1)\n",
    "Y = data['Occupancy']"
   ]
  },
  {
   "cell_type": "code",
   "execution_count": 3,
   "metadata": {
    "collapsed": true
   },
   "outputs": [],
   "source": [
    "maxdepth = [2, 5, 10, 15, 20]\n",
    "k = [1, 2, 3, 4, 5, 10,15]\n",
    "c = [0.001, 0.01, 0.1, 0.5, 1]"
   ]
  },
  {
   "cell_type": "code",
   "execution_count": 4,
   "metadata": {
    "collapsed": true
   },
   "outputs": [],
   "source": [
    "from sklearn import tree\n",
    "from sklearn.metrics import accuracy_score\n",
    "from sklearn.model_selection import cross_val_score\n",
    "accuracy = []\n",
    "for i in maxdepth:\n",
    "    clf = tree.DecisionTreeClassifier(max_depth=i)\n",
    "    scores = cross_val_score(clf, X, Y, cv=5)\n",
    "    accuracy.append(scores.mean())\n"
   ]
  },
  {
   "cell_type": "code",
   "execution_count": 5,
   "metadata": {},
   "outputs": [
    {
     "data": {
      "text/plain": [
       "[0.96995283018867917,\n",
       " 0.9812421383647798,\n",
       " 0.99124213836477981,\n",
       " 0.98998427672955969,\n",
       " 0.9812421383647798]"
      ]
     },
     "execution_count": 5,
     "metadata": {},
     "output_type": "execute_result"
    }
   ],
   "source": [
    "accuracy"
   ]
  },
  {
   "cell_type": "code",
   "execution_count": 6,
   "metadata": {
    "collapsed": true
   },
   "outputs": [],
   "source": [
    "import pandas as p\n",
    "data = p.read_csv('test.csv')\n",
    "data.head()\n",
    "\n",
    "X_test = data.drop('date',axis=1)\n",
    "X_test = X_test.drop('Occupancy', axis=1)\n",
    "Y_test = data['Occupancy']"
   ]
  },
  {
   "cell_type": "code",
   "execution_count": 7,
   "metadata": {},
   "outputs": [
    {
     "data": {
      "text/plain": [
       "[<matplotlib.lines.Line2D at 0x114d54e90>]"
      ]
     },
     "execution_count": 7,
     "metadata": {},
     "output_type": "execute_result"
    },
    {
     "data": {
      "image/png": "[encoded data removed]",
      "text/plain": [
       "<matplotlib.figure.Figure at 0x1109c8e90>"
      ]
     },
     "metadata": {},
     "output_type": "display_data"
    }
   ],
   "source": [
    "%matplotlib inline\n",
    "import matplotlib\n",
    "import matplotlib.pyplot as plt \n",
    "plt.plot(maxdepth,accuracy,'ro-')"
   ]
  },
  {
   "cell_type": "code",
   "execution_count": 8,
   "metadata": {
    "collapsed": true
   },
   "outputs": [],
   "source": [
    "from sklearn import tree\n",
    "from sklearn.neighbors import KNeighborsClassifier\n",
    "from sklearn.model_selection import cross_val_score\n",
    "accuracy = []\n",
    "for i in k:\n",
    "    clf = KNeighborsClassifier(n_neighbors=i)\n",
    "    scores = cross_val_score(clf, X, Y, cv=5)\n",
    "    accuracy.append(scores.mean())"
   ]
  },
  {
   "cell_type": "code",
   "execution_count": 9,
   "metadata": {},
   "outputs": [
    {
     "data": {
      "text/plain": [
       "[0.98120283018867926,\n",
       " 0.97745283018867934,\n",
       " 0.98495283018867918,\n",
       " 0.9837028301886791,\n",
       " 0.98243710691823893,\n",
       " 0.97740566037735854,\n",
       " 0.96482704402515718]"
      ]
     },
     "execution_count": 9,
     "metadata": {},
     "output_type": "execute_result"
    }
   ],
   "source": [
    "accuracy"
   ]
  },
  {
   "cell_type": "code",
   "execution_count": 10,
   "metadata": {},
   "outputs": [
    {
     "data": {
      "text/plain": [
       "[<matplotlib.lines.Line2D at 0x114ef4810>]"
      ]
     },
     "execution_count": 10,
     "metadata": {},
     "output_type": "execute_result"
    },
    {
     "data": {
      "image/png": "[encoded data removed]",
      "text/plain": [
       "<matplotlib.figure.Figure at 0x114d83250>"
      ]
     },
     "metadata": {},
     "output_type": "display_data"
    }
   ],
   "source": [
    "%matplotlib inline\n",
    "import matplotlib\n",
    "import matplotlib.pyplot as plt \n",
    "plt.plot(k,accuracy,'ro-')"
   ]
  },
  {
   "cell_type": "code",
   "execution_count": 11,
   "metadata": {
    "collapsed": true
   },
   "outputs": [],
   "source": [
    "from sklearn import tree\n",
    "from sklearn.metrics import accuracy_score\n",
    "from sklearn.model_selection import cross_val_score\n",
    "from sklearn.linear_model import LogisticRegression\n",
    "accuracy = []\n",
    "for i in c:\n",
    "    clf = LogisticRegression(C=i)\n",
    "    scores = cross_val_score(clf, X, Y, cv=5)\n",
    "    accuracy.append(scores.mean())\n",
    "    "
   ]
  },
  {
   "cell_type": "code",
   "execution_count": 12,
   "metadata": {},
   "outputs": [
    {
     "data": {
      "text/plain": [
       "[0.96734276729559754,\n",
       " 0.98746855345911955,\n",
       " 0.99250000000000005,\n",
       " 0.99250000000000005,\n",
       " 0.99250000000000005]"
      ]
     },
     "execution_count": 12,
     "metadata": {},
     "output_type": "execute_result"
    }
   ],
   "source": [
    "accuracy"
   ]
  },
  {
   "cell_type": "code",
   "execution_count": 13,
   "metadata": {},
   "outputs": [
    {
     "data": {
      "text/plain": [
       "[<matplotlib.lines.Line2D at 0x115291f50>]"
      ]
     },
     "execution_count": 13,
     "metadata": {},
     "output_type": "execute_result"
    },
    {
     "data": {
      "image/png": "[encoded data removed]",
      "text/plain": [
       "<matplotlib.figure.Figure at 0x114f56ed0>"
      ]
     },
     "metadata": {},
     "output_type": "display_data"
    }
   ],
   "source": [
    "%matplotlib inline\n",
    "import matplotlib\n",
    "import matplotlib.pyplot as plt \n",
    "plt.plot(c,accuracy,'ro-')"
   ]
  },
  {
   "cell_type": "code",
   "execution_count": 14,
   "metadata": {},
   "outputs": [
    {
     "data": {
      "text/plain": [
       "0.98720392050095285"
      ]
     },
     "execution_count": 14,
     "metadata": {},
     "output_type": "execute_result"
    }
   ],
   "source": [
    "clf = tree.DecisionTreeClassifier(max_depth=5.0)\n",
    "clf = clf.fit(X, Y)\n",
    "Y_pred = clf.predict(X_test)\n",
    "accuracy_test_Decision = accuracy_score(Y_test,Y_pred)\n",
    "\n",
    "accuracy_test_Decision"
   ]
  },
  {
   "cell_type": "code",
   "execution_count": 15,
   "metadata": {},
   "outputs": [
    {
     "data": {
      "text/plain": [
       "0.98842907704873395"
      ]
     },
     "execution_count": 15,
     "metadata": {},
     "output_type": "execute_result"
    }
   ],
   "source": [
    "clf = KNeighborsClassifier(n_neighbors=3)\n",
    "clf = clf.fit(X, Y)\n",
    "Y_pred = clf.predict(X_test)\n",
    "accuracy_test_Knearest = accuracy_score(Y_test,Y_pred)\n",
    "\n",
    "accuracy_test_Knearest"
   ]
  },
  {
   "cell_type": "code",
   "execution_count": 16,
   "metadata": {},
   "outputs": [
    {
     "data": {
      "text/plain": [
       "0.98761230601687988"
      ]
     },
     "execution_count": 16,
     "metadata": {},
     "output_type": "execute_result"
    }
   ],
   "source": [
    "clf = LogisticRegression(C=1.0)\n",
    "clf = clf.fit(X, Y)\n",
    "Y_pred = clf.predict(X_test)\n",
    "accuracy_test_logistic = accuracy_score(Y_test,Y_pred)\n",
    "\n",
    "accuracy_test_logistic"
   ]
  },
  {
   "cell_type": "code",
   "execution_count": 17,
   "metadata": {
    "collapsed": true
   },
   "outputs": [],
   "source": [
    "accuracy_test_Decision=[]\n",
    "accuracy_score_list=[]\n",
    "for i in maxdepth:\n",
    "    clf = tree.DecisionTreeClassifier(max_depth=i)\n",
    "    clf = clf.fit(X, Y)\n",
    "    Y_pred_train = clf.predict(X)\n",
    "    Y_pred = clf.predict(X_test)\n",
    "    accuracy_score_list.append(accuracy_score(Y,Y_pred_train))\n",
    "    accuracy_test_Decision.append(accuracy_score(Y_test,Y_pred))"
   ]
  },
  {
   "cell_type": "code",
   "execution_count": 18,
   "metadata": {},
   "outputs": [
    {
     "data": {
      "text/plain": [
       "[<matplotlib.lines.Line2D at 0x115309590>,\n",
       " <matplotlib.lines.Line2D at 0x115309690>]"
      ]
     },
     "execution_count": 18,
     "metadata": {},
     "output_type": "execute_result"
    },
    {
     "data": {
      "image/png": "[encoded data removed]",
      "text/plain": [
       "<matplotlib.figure.Figure at 0x1152572d0>"
      ]
     },
     "metadata": {},
     "output_type": "display_data"
    }
   ],
   "source": [
    "import matplotlib.pyplot as plt \n",
    "plt.plot(maxdepth,accuracy_score_list,'ro-',maxdepth,accuracy_test_Decision,'bv--')"
   ]
  },
  {
   "cell_type": "code",
   "execution_count": 19,
   "metadata": {
    "collapsed": true
   },
   "outputs": [],
   "source": [
    "accuracy_test_Knearest=[]\n",
    "accuracy_score_list=[]\n",
    "for i in maxdepth:\n",
    "    clf = KNeighborsClassifier(n_neighbors=i)\n",
    "    clf = clf.fit(X, Y)\n",
    "    Y_pred_train = clf.predict(X)\n",
    "    Y_pred = clf.predict(X_test)\n",
    "    accuracy_score_list.append(accuracy_score(Y,Y_pred_train))\n",
    "    accuracy_test_Knearest.append(accuracy_score(Y_test,Y_pred))"
   ]
  },
  {
   "cell_type": "code",
   "execution_count": 37,
   "metadata": {},
   "outputs": [
    {
     "name": "stdout",
     "output_type": "stream",
     "text": [
      "0.984753607405\n",
      "0.988429077049\n",
      "0.987612306017\n"
     ]
    },
    {
     "data": {
      "image/png": "[encoded data removed]",
      "text/plain": [
       "<matplotlib.figure.Figure at 0x110e22e90>"
      ]
     },
     "metadata": {},
     "output_type": "display_data"
    }
   ],
   "source": [
    "from sklearn import linear_model\n",
    "from sklearn.svm import SVC\n",
    "\n",
    "Desicion_acc_list = []\n",
    "KNeighbors_acc_list=[]\n",
    "logistic_acc_list = []\n",
    "\n",
    "clf = tree.DecisionTreeClassifier(max_depth=5.0)\n",
    "clf = clf.fit(X, Y)\n",
    "Y_pred = clf.predict(X_test)\n",
    "accuracy_test_Decision = accuracy_score(Y_test,Y_pred)\n",
    "\n",
    "clf = KNeighborsClassifier(n_neighbors=3)\n",
    "clf = clf.fit(X, Y)\n",
    "Y_pred = clf.predict(X_test)\n",
    "accuracy_test_Knearest = accuracy_score(Y_test,Y_pred)\n",
    "\n",
    "    \n",
    "clf = LogisticRegression(C=1.0)\n",
    "clf = clf.fit(X, Y)\n",
    "Y_pred = clf.predict(X_test)\n",
    "accuracy_test_logistic = accuracy_score(Y_test,Y_pred)\n",
    "\n",
    "methods = ['Dtree','Kneighbor','logistic']\n",
    "acc = [accuracy_test_Decision,accuracy_test_Knearest,accuracy_test_logistic]\n",
    "plt.bar([1, 2, 3], acc)\n",
    "plt.xticks([1,2,3], methods)\n",
    "\n",
    "# ystick = [0.1,0.2,0.3,0.4,0.5,0.6,0.7,0.8,0.85,0.97,0.98,0.9]\n",
    "\n",
    "print accuracy_test_Decision\n",
    "\n",
    "print accuracy_test_Knearest\n",
    "\n",
    "print accuracy_test_logistic\n",
    "\n",
    "\n"
   ]
  },
  {
   "cell_type": "code",
   "execution_count": 38,
   "metadata": {},
   "outputs": [
    {
     "data": {
      "image/png": "[encoded data removed]",
      "text/plain": [
       "<matplotlib.figure.Figure at 0x115970510>"
      ]
     },
     "metadata": {},
     "output_type": "display_data"
    }
   ],
   "source": [
    "#######################################\n",
    "# Show differency to re-scale the y-axis by yscale('log')\n",
    "#######################################\n",
    "methods = ['Dtree','Kneighbor','logistic']\n",
    "acc = [accuracy_test_Decision,accuracy_test_Knearest,accuracy_test_logistic]\n",
    "plt.bar([1, 2, 3], acc)\n",
    "plt.xticks([1,2,3], methods)\n",
    "plt.yscale(\"log\")"
   ]
  },
  {
   "cell_type": "code",
   "execution_count": null,
   "metadata": {
    "collapsed": true
   },
   "outputs": [],
   "source": []
  }
 ],
 "metadata": {
  "kernelspec": {
   "display_name": "Python 2",
   "language": "python",
   "name": "python2"
  },
  "language_info": {
   "codemirror_mode": {
    "name": "ipython",
    "version": 2
   },
   "file_extension": ".py",
   "mimetype": "text/x-python",
   "name": "python",
   "nbconvert_exporter": "python",
   "pygments_lexer": "ipython2",
   "version": "2.7.13"
  }
 },
 "nbformat": 4,
 "nbformat_minor": 2
}
